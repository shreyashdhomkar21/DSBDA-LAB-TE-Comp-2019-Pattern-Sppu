{
 "cells": [
  {
   "cell_type": "markdown",
   "id": "5ef46a26-f03f-4e52-8ae2-aff89f368a1f",
   "metadata": {},
   "source": [
    "## practical no:- 7\n",
    "1. Extract Sample document and apply following document preprocessing methods:\n",
    "Tokenization, POS Tagging, stop words removal, Stemming and Lemmatization.\n",
    "2. Create representation of document by calculating Term Frequency and Inverse Document\n",
    "Frequency."
   ]
  },
  {
   "cell_type": "markdown",
   "id": "3987117c-f0f7-4484-b804-35ffd8cff070",
   "metadata": {},
   "source": [
    "### Sample Sentences"
   ]
  },
  {
   "cell_type": "code",
   "execution_count": 1,
   "id": "d0572678-8807-44ee-9f23-afe9f5a9920f",
   "metadata": {},
   "outputs": [],
   "source": [
    "Sample_Sentences = \"I played the play playfully as the players were playing in the play with playfullness\""
   ]
  },
  {
   "cell_type": "markdown",
   "id": "7e75d656-330a-48c5-aa5b-3d79515bd9aa",
   "metadata": {},
   "source": [
    "### Tokenization"
   ]
  },
  {
   "cell_type": "code",
   "execution_count": 2,
   "id": "ded1fe48-9924-4aa5-a1c8-0ccb0c5e684e",
   "metadata": {},
   "outputs": [
    {
     "name": "stderr",
     "output_type": "stream",
     "text": [
      "[nltk_data] Downloading package averaged_perceptron_tagger to\n",
      "[nltk_data]     C:\\Users\\shreyash\\AppData\\Roaming\\nltk_data...\n",
      "[nltk_data]   Package averaged_perceptron_tagger is already up-to-\n",
      "[nltk_data]       date!\n"
     ]
    },
    {
     "data": {
      "text/plain": [
       "True"
      ]
     },
     "execution_count": 2,
     "metadata": {},
     "output_type": "execute_result"
    }
   ],
   "source": [
    "import nltk\n",
    "nltk.download('averaged_perceptron_tagger')"
   ]
  },
  {
   "cell_type": "code",
   "execution_count": null,
   "id": "f366fac1-e2ff-410f-a064-a3f0949b8c09",
   "metadata": {},
   "outputs": [],
   "source": []
  },
  {
   "cell_type": "code",
   "execution_count": 11,
   "id": "5554d7bb-fcf0-46eb-9481-93256ea23576",
   "metadata": {},
   "outputs": [],
   "source": [
    "from nltk.tokenize import sent_tokenize"
   ]
  },
  {
   "cell_type": "code",
   "execution_count": 12,
   "id": "569cb920-93c2-423f-a8b5-e59273857a59",
   "metadata": {},
   "outputs": [],
   "source": [
    "sentences = sent_tokenize(Sample_Sentences)"
   ]
  },
  {
   "cell_type": "code",
   "execution_count": 13,
   "id": "7c9733c6-c9b8-4b4c-bb4b-065d0fdbfcfa",
   "metadata": {},
   "outputs": [
    {
     "data": {
      "text/plain": [
       "['I played the play playfully as the players were playing in the play with playfullness']"
      ]
     },
     "execution_count": 13,
     "metadata": {},
     "output_type": "execute_result"
    }
   ],
   "source": [
    "sentences"
   ]
  },
  {
   "cell_type": "code",
   "execution_count": 3,
   "id": "c6c9b6ba-f480-4659-942a-fc59db20650f",
   "metadata": {},
   "outputs": [
    {
     "name": "stdout",
     "output_type": "stream",
     "text": [
      "sentences words:  ['I played the play playfully as the players were playing in the play with playfullness']\n",
      "Tokenized words: [['I', 'played', 'the', 'play', 'playfully', 'as', 'the', 'players', 'were', 'playing', 'in', 'the', 'play', 'with', 'playfullness']]\n"
     ]
    }
   ],
   "source": [
    "from nltk import word_tokenize, sent_tokenize\n",
    "sentences = sent_tokenize(Sample_Sentences)\n",
    "tokenized_words = [word_tokenize(sentence) for sentence in sentences]\n",
    "print('sentences words: ',sentences )\n",
    "print('Tokenized words:', tokenized_words)"
   ]
  },
  {
   "cell_type": "markdown",
   "id": "dc2610b0-236e-478c-8550-254084025c12",
   "metadata": {},
   "source": [
    "### POS Tagging"
   ]
  },
  {
   "cell_type": "code",
   "execution_count": 4,
   "id": "fcbb4aad-1d86-4d5c-8655-8e850341e4a3",
   "metadata": {},
   "outputs": [
    {
     "name": "stdout",
     "output_type": "stream",
     "text": [
      "Tagging Parts of Speech: [('I', 'PRP'), ('played', 'VBD'), ('the', 'DT'), ('play', 'NN'), ('playfully', 'RB'), ('as', 'IN'), ('the', 'DT'), ('players', 'NNS'), ('were', 'VBD'), ('playing', 'VBG'), ('in', 'IN'), ('the', 'DT'), ('play', 'NN'), ('with', 'IN'), ('playfullness', 'NN')]\n"
     ]
    }
   ],
   "source": [
    "from nltk import pos_tag\n",
    "tokenized_words = word_tokenize(Sample_Sentences)\n",
    "pos_tags = pos_tag(tokenized_words)\n",
    "print(\"Tagging Parts of Speech:\", pos_tags)"
   ]
  },
  {
   "cell_type": "markdown",
   "id": "f2522d57-fefc-415b-a98f-b46228a3e30d",
   "metadata": {},
   "source": [
    "### Stop-Words Removal"
   ]
  },
  {
   "cell_type": "code",
   "execution_count": 5,
   "id": "8bb25b9e-24de-47f9-8837-1c28dfdf8e85",
   "metadata": {},
   "outputs": [
    {
     "name": "stdout",
     "output_type": "stream",
     "text": [
      "Filtered Tokens after Stop Words Removal: ['played', 'play', 'playfully', 'players', 'playing', 'play', 'playfullness']\n"
     ]
    }
   ],
   "source": [
    "from nltk.corpus import stopwords\n",
    "\n",
    "stop_words = set(stopwords.words('english'))\n",
    "filtered_tokens = [word for word in tokenized_words if word.lower() not in stop_words]\n",
    "print(\"Filtered Tokens after Stop Words Removal:\", filtered_tokens)"
   ]
  },
  {
   "cell_type": "markdown",
   "id": "0816f513-b7f6-4ba0-bb7d-750586965a29",
   "metadata": {},
   "source": [
    "### Stemming"
   ]
  },
  {
   "cell_type": "code",
   "execution_count": 6,
   "id": "221dfb59-93b1-462e-9286-805cab11976d",
   "metadata": {},
   "outputs": [
    {
     "name": "stdout",
     "output_type": "stream",
     "text": [
      "Stemmed Tokens: ['play', 'play', 'play', 'player', 'play', 'play', 'playful']\n"
     ]
    }
   ],
   "source": [
    "from nltk.stem import PorterStemmer\n",
    "\n",
    "stemmer = PorterStemmer()\n",
    "stemmed_tokens = [stemmer.stem(word) for word in filtered_tokens]\n",
    "print(\"Stemmed Tokens:\", stemmed_tokens)"
   ]
  },
  {
   "cell_type": "markdown",
   "id": "73bf8603-bd1f-4786-baae-b9d3c4cb3954",
   "metadata": {},
   "source": [
    "### Lemmatization"
   ]
  },
  {
   "cell_type": "code",
   "execution_count": 7,
   "id": "17cea005-dc30-4db8-bfcf-3a2d0fd18fab",
   "metadata": {},
   "outputs": [
    {
     "name": "stdout",
     "output_type": "stream",
     "text": [
      "Lemmatized Tokens: ['played', 'play', 'playfully', 'player', 'playing', 'play', 'playfullness']\n"
     ]
    }
   ],
   "source": [
    "from nltk.stem import WordNetLemmatizer \n",
    "\n",
    "lemmatizer = WordNetLemmatizer()\n",
    "lemmatized_tokens = [lemmatizer.lemmatize(word) for word in filtered_tokens]\n",
    "print(\"Lemmatized Tokens:\", lemmatized_tokens)"
   ]
  },
  {
   "cell_type": "markdown",
   "id": "db9551c5-5080-46e8-bcc8-0e51643824a5",
   "metadata": {},
   "source": [
    "### 2) Create representation of document by calculating Term Frequency and Inverse Document Frequency."
   ]
  },
  {
   "cell_type": "code",
   "execution_count": 8,
   "id": "40af26ff-f87e-4a28-bb57-4a2767bd2a55",
   "metadata": {},
   "outputs": [],
   "source": [
    "preprocessed_text = ' '.join(lemmatized_tokens)"
   ]
  },
  {
   "cell_type": "code",
   "execution_count": 9,
   "id": "b0b9e88e-8863-48eb-8131-84ef377eb807",
   "metadata": {},
   "outputs": [
    {
     "name": "stdout",
     "output_type": "stream",
     "text": [
      "Preprocessed Text: played play playfully player playing play playfullness\n",
      "\n",
      "TF-IDF Representation:\n",
      "[[0.66666667 0.33333333 0.33333333 0.33333333 0.33333333 0.33333333]]\n"
     ]
    }
   ],
   "source": [
    "from sklearn.feature_extraction.text import TfidfVectorizer\n",
    "\n",
    "tfidf_vectorizer = TfidfVectorizer()\n",
    "tfidf_representation = tfidf_vectorizer.fit_transform([preprocessed_text])\n",
    "\n",
    "print(\"Preprocessed Text:\", preprocessed_text)\n",
    "print(\"\\nTF-IDF Representation:\")\n",
    "print(tfidf_representation.toarray())\n"
   ]
  }
 ],
 "metadata": {
  "kernelspec": {
   "display_name": "python3.11.5",
   "language": "python",
   "name": "python3.11.5"
  },
  "language_info": {
   "codemirror_mode": {
    "name": "ipython",
    "version": 3
   },
   "file_extension": ".py",
   "mimetype": "text/x-python",
   "name": "python",
   "nbconvert_exporter": "python",
   "pygments_lexer": "ipython3",
   "version": "3.11.5"
  }
 },
 "nbformat": 4,
 "nbformat_minor": 5
}
